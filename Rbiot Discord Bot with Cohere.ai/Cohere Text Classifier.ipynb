{
 "cells": [
  {
   "cell_type": "markdown",
   "id": "4792a932",
   "metadata": {},
   "source": [
    "## Pipeline"
   ]
  },
  {
   "cell_type": "markdown",
   "id": "c573edef",
   "metadata": {},
   "source": [
    "1. Gather previous messages from raphraphraph, luckyjalien, and nil\n",
    "2. Clean messages and put them into a dataframe\n",
    "3. Process messages into embeddings \n",
    "    * Send messages (before embeddings) to cohere.ai to finetune already made models\n",
    "    * Test Results\n",
    "4. Use finetuned moddel to run with a discord bot command.\n",
    "    * Input: A message\n",
    "    * Output: The person most likely to type that message between raphraphraph, luckyjalien, and nil"
   ]
  },
  {
   "cell_type": "markdown",
   "id": "bdd2e40d",
   "metadata": {},
   "source": [
    "## Libraries"
   ]
  },
  {
   "cell_type": "code",
   "execution_count": 1,
   "id": "9fbd1450",
   "metadata": {},
   "outputs": [],
   "source": [
    "import cohere\n",
    "import csv\n",
    "import os\n",
    "import glob\n",
    "import pandas as pd\n",
    "import numpy as np\n",
    "from sklearn.model_selection import train_test_split\n",
    "from sklearn.metrics import accuracy_score, f1_score"
   ]
  },
  {
   "cell_type": "markdown",
   "id": "75efa6eb",
   "metadata": {},
   "source": [
    "[Link to Guide that Helped Me](https://txt.cohere.ai/classify-three-options/)"
   ]
  },
  {
   "cell_type": "markdown",
   "id": "de743fde",
   "metadata": {},
   "source": [
    "## Cohere Embeddings and CSV for training on os.cohere.ai"
   ]
  },
  {
   "cell_type": "code",
   "execution_count": 2,
   "id": "c33fceda",
   "metadata": {
    "scrolled": true
   },
   "outputs": [],
   "source": [
    "from token_2 import TOKEN_COHERE\n",
    "co = cohere.Client(TOKEN_COHERE)"
   ]
  },
  {
   "cell_type": "code",
   "execution_count": 3,
   "id": "2e87e9e6",
   "metadata": {},
   "outputs": [],
   "source": [
    "# extension = 'csv'\n",
    "# all_filenames = [i for i in glob.glob('*.{}'.format(extension))]\n",
    "# combined_csv = pd.concat([pd.read_csv(f) for f in all_filenames ])\n",
    "# combined_csv.to_csv( \"messages.csv\", index=False, encoding='utf-8')"
   ]
  },
  {
   "cell_type": "code",
   "execution_count": 4,
   "id": "25f65fc0",
   "metadata": {},
   "outputs": [],
   "source": [
    "df = pd.read_csv('messages.csv')"
   ]
  },
  {
   "cell_type": "code",
   "execution_count": 5,
   "id": "3bd554bf",
   "metadata": {},
   "outputs": [],
   "source": [
    "name_dict = {\"luckyjalien#7103\":\"Jackie\", \"nil#7933\":\"Jun\", \"raphraphraph#1976\":\"Raph\"}\n",
    "df2 = df.replace({\"author\":name_dict})\n",
    "df2 = df2.dropna()"
   ]
  },
  {
   "cell_type": "code",
   "execution_count": 6,
   "id": "37afce67",
   "metadata": {},
   "outputs": [],
   "source": [
    "X, y = df2[\"text\"], df2[\"author\"]\n",
    "\n",
    "X_train, X_test, y_train, y_test = train_test_split(X, y)"
   ]
  },
  {
   "cell_type": "code",
   "execution_count": 7,
   "id": "7ec82cb7",
   "metadata": {},
   "outputs": [
    {
     "data": {
      "text/html": [
       "<div>\n",
       "<style scoped>\n",
       "    .dataframe tbody tr th:only-of-type {\n",
       "        vertical-align: middle;\n",
       "    }\n",
       "\n",
       "    .dataframe tbody tr th {\n",
       "        vertical-align: top;\n",
       "    }\n",
       "\n",
       "    .dataframe thead th {\n",
       "        text-align: right;\n",
       "    }\n",
       "</style>\n",
       "<table border=\"1\" class=\"dataframe\">\n",
       "  <thead>\n",
       "    <tr style=\"text-align: right;\">\n",
       "      <th></th>\n",
       "      <th>text</th>\n",
       "      <th>author</th>\n",
       "    </tr>\n",
       "  </thead>\n",
       "  <tbody>\n",
       "    <tr>\n",
       "      <th>0</th>\n",
       "      <td>its fine</td>\n",
       "      <td>Jackie</td>\n",
       "    </tr>\n",
       "    <tr>\n",
       "      <th>1</th>\n",
       "      <td>oh lmfoa</td>\n",
       "      <td>Jackie</td>\n",
       "    </tr>\n",
       "    <tr>\n",
       "      <th>2</th>\n",
       "      <td>&lt;:sweatduck:851002485157789736&gt;</td>\n",
       "      <td>Jackie</td>\n",
       "    </tr>\n",
       "    <tr>\n",
       "      <th>3</th>\n",
       "      <td>it failed</td>\n",
       "      <td>Jackie</td>\n",
       "    </tr>\n",
       "    <tr>\n",
       "      <th>4</th>\n",
       "      <td>$history jackie</td>\n",
       "      <td>Jackie</td>\n",
       "    </tr>\n",
       "    <tr>\n",
       "      <th>...</th>\n",
       "      <td>...</td>\n",
       "      <td>...</td>\n",
       "    </tr>\n",
       "    <tr>\n",
       "      <th>1773</th>\n",
       "      <td>i wanna see him</td>\n",
       "      <td>Raph</td>\n",
       "    </tr>\n",
       "    <tr>\n",
       "      <th>1774</th>\n",
       "      <td>YES</td>\n",
       "      <td>Raph</td>\n",
       "    </tr>\n",
       "    <tr>\n",
       "      <th>1775</th>\n",
       "      <td>bet</td>\n",
       "      <td>Raph</td>\n",
       "    </tr>\n",
       "    <tr>\n",
       "      <th>1776</th>\n",
       "      <td>wha</td>\n",
       "      <td>Raph</td>\n",
       "    </tr>\n",
       "    <tr>\n",
       "      <th>1777</th>\n",
       "      <td>excuse me wha</td>\n",
       "      <td>Raph</td>\n",
       "    </tr>\n",
       "  </tbody>\n",
       "</table>\n",
       "<p>1740 rows × 2 columns</p>\n",
       "</div>"
      ],
      "text/plain": [
       "                                 text  author\n",
       "0                            its fine  Jackie\n",
       "1                            oh lmfoa  Jackie\n",
       "2     <:sweatduck:851002485157789736>  Jackie\n",
       "3                           it failed  Jackie\n",
       "4                     $history jackie  Jackie\n",
       "...                               ...     ...\n",
       "1773                  i wanna see him    Raph\n",
       "1774                              YES    Raph\n",
       "1775                              bet    Raph\n",
       "1776                              wha    Raph\n",
       "1777                    excuse me wha    Raph\n",
       "\n",
       "[1740 rows x 2 columns]"
      ]
     },
     "execution_count": 7,
     "metadata": {},
     "output_type": "execute_result"
    }
   ],
   "source": [
    "df2"
   ]
  },
  {
   "cell_type": "code",
   "execution_count": 8,
   "id": "bb36c7ec",
   "metadata": {},
   "outputs": [],
   "source": [
    "def embed_text(text):\n",
    "    output = co.embed(model='small', texts=text)\n",
    "    return output.embeddings"
   ]
  },
  {
   "cell_type": "code",
   "execution_count": 9,
   "id": "4f3ae1ff",
   "metadata": {},
   "outputs": [],
   "source": [
    "\n",
    "\n",
    "X_train_emb = np.array(embed_text(X_train.tolist()))\n",
    "X_test_emb = np.array(embed_text(X_test.tolist()))"
   ]
  },
  {
   "cell_type": "code",
   "execution_count": 10,
   "id": "dabc1947",
   "metadata": {},
   "outputs": [],
   "source": [
    "#saving embeddings\n",
    "np.savetxt('Xtrain.txt', X_train_emb)\n",
    "np.savetxt('Xtest.txt', X_test_emb)"
   ]
  },
  {
   "cell_type": "code",
   "execution_count": 11,
   "id": "21fc18e4",
   "metadata": {},
   "outputs": [
    {
     "name": "stdout",
     "output_type": "stream",
     "text": [
      "Accuracy: 60.69\n",
      "F1-score: 59.63\n"
     ]
    }
   ],
   "source": [
    "# Import modules\n",
    "from sklearn.svm import SVC\n",
    "from sklearn import preprocessing\n",
    "from sklearn.metrics import accuracy_score, f1_score\n",
    "\n",
    "# Prepare the labels\n",
    "le = preprocessing.LabelEncoder()\n",
    "le.fit(y_train)\n",
    "y_train_le = le.transform(y_train)\n",
    "y_test_le = le.transform(y_test)\n",
    "\n",
    "# Initialize the model\n",
    "svm_classifier = SVC(class_weight='balanced')\n",
    "\n",
    "# Fit the training dataset to the model\n",
    "svm_classifier.fit(X_train_emb, y_train_le)\n",
    "\n",
    "# Generate classification predictions on the test dataset\n",
    "y_pred_le = svm_classifier.predict(X_test_emb)\n",
    "\n",
    "# Compute metrics on the test dataset\n",
    "accuracy = accuracy_score(y_test_le, y_pred_le)\n",
    "f1 = f1_score(y_test_le, y_pred_le, average='weighted')\n",
    "\n",
    "print(f'Accuracy: {100*accuracy:.2f}')\n",
    "print(f'F1-score: {100*f1:.2f}')"
   ]
  },
  {
   "cell_type": "code",
   "execution_count": 12,
   "id": "c1d591d3",
   "metadata": {
    "scrolled": true
   },
   "outputs": [
    {
     "data": {
      "text/html": [
       "<div>\n",
       "<style scoped>\n",
       "    .dataframe tbody tr th:only-of-type {\n",
       "        vertical-align: middle;\n",
       "    }\n",
       "\n",
       "    .dataframe tbody tr th {\n",
       "        vertical-align: top;\n",
       "    }\n",
       "\n",
       "    .dataframe thead th {\n",
       "        text-align: right;\n",
       "    }\n",
       "</style>\n",
       "<table border=\"1\" class=\"dataframe\">\n",
       "  <thead>\n",
       "    <tr style=\"text-align: right;\">\n",
       "      <th></th>\n",
       "      <th>Examples</th>\n",
       "      <th>Labels</th>\n",
       "    </tr>\n",
       "  </thead>\n",
       "  <tbody>\n",
       "    <tr>\n",
       "      <th>0</th>\n",
       "      <td>its fine</td>\n",
       "      <td>Jackie</td>\n",
       "    </tr>\n",
       "    <tr>\n",
       "      <th>1</th>\n",
       "      <td>oh lmfoa</td>\n",
       "      <td>Jackie</td>\n",
       "    </tr>\n",
       "    <tr>\n",
       "      <th>2</th>\n",
       "      <td>&lt;:sweatduck:851002485157789736&gt;</td>\n",
       "      <td>Jackie</td>\n",
       "    </tr>\n",
       "    <tr>\n",
       "      <th>3</th>\n",
       "      <td>it failed</td>\n",
       "      <td>Jackie</td>\n",
       "    </tr>\n",
       "    <tr>\n",
       "      <th>4</th>\n",
       "      <td>$history jackie</td>\n",
       "      <td>Jackie</td>\n",
       "    </tr>\n",
       "    <tr>\n",
       "      <th>...</th>\n",
       "      <td>...</td>\n",
       "      <td>...</td>\n",
       "    </tr>\n",
       "    <tr>\n",
       "      <th>1773</th>\n",
       "      <td>i wanna see him</td>\n",
       "      <td>Raph</td>\n",
       "    </tr>\n",
       "    <tr>\n",
       "      <th>1774</th>\n",
       "      <td>YES</td>\n",
       "      <td>Raph</td>\n",
       "    </tr>\n",
       "    <tr>\n",
       "      <th>1775</th>\n",
       "      <td>bet</td>\n",
       "      <td>Raph</td>\n",
       "    </tr>\n",
       "    <tr>\n",
       "      <th>1776</th>\n",
       "      <td>wha</td>\n",
       "      <td>Raph</td>\n",
       "    </tr>\n",
       "    <tr>\n",
       "      <th>1777</th>\n",
       "      <td>excuse me wha</td>\n",
       "      <td>Raph</td>\n",
       "    </tr>\n",
       "  </tbody>\n",
       "</table>\n",
       "<p>1740 rows × 2 columns</p>\n",
       "</div>"
      ],
      "text/plain": [
       "                             Examples  Labels\n",
       "0                            its fine  Jackie\n",
       "1                            oh lmfoa  Jackie\n",
       "2     <:sweatduck:851002485157789736>  Jackie\n",
       "3                           it failed  Jackie\n",
       "4                     $history jackie  Jackie\n",
       "...                               ...     ...\n",
       "1773                  i wanna see him    Raph\n",
       "1774                              YES    Raph\n",
       "1775                              bet    Raph\n",
       "1776                              wha    Raph\n",
       "1777                    excuse me wha    Raph\n",
       "\n",
       "[1740 rows x 2 columns]"
      ]
     },
     "execution_count": 12,
     "metadata": {},
     "output_type": "execute_result"
    }
   ],
   "source": [
    "df3 = df2\n",
    "df3 = df3.rename({\"text\":\"Examples\", \"author\":\"Labels\"}, axis = \"columns\")\n",
    "df3"
   ]
  },
  {
   "cell_type": "code",
   "execution_count": 13,
   "id": "75892902",
   "metadata": {},
   "outputs": [],
   "source": [
    "#df2.to_csv(\"cohere.csv\", index_label = False,  index=False)"
   ]
  },
  {
   "cell_type": "code",
   "execution_count": 14,
   "id": "604e2c7f",
   "metadata": {},
   "outputs": [],
   "source": [
    "#send to training on Cohere\n",
    "df3.to_csv(\"cohere1.csv\", index_label = False,  index=False, header = False)"
   ]
  },
  {
   "cell_type": "markdown",
   "id": "c2909bbe",
   "metadata": {},
   "source": [
    "## Classify the Text on Testing data"
   ]
  },
  {
   "cell_type": "code",
   "execution_count": 15,
   "id": "73aaa943",
   "metadata": {},
   "outputs": [],
   "source": [
    "#sent it to training on cohere\n",
    "def classify_text_finetune(text):\n",
    "    classifications = co.classify(\n",
    "    model='ff3b9944-21b6-41de-bf58-dd5e4bd02993-ft',\n",
    "    inputs=text\n",
    "    )\n",
    "    return classifications.classifications"
   ]
  },
  {
   "cell_type": "code",
   "execution_count": 16,
   "id": "7f4d98dd",
   "metadata": {},
   "outputs": [],
   "source": [
    "# Generate classification predictions on the test dataset\n",
    "y_pred_raw = classify_text_finetune(X_test.tolist())\n",
    "y_pred = [y.prediction for y in y_pred_raw]"
   ]
  },
  {
   "cell_type": "code",
   "execution_count": 17,
   "id": "a3ba4c47",
   "metadata": {},
   "outputs": [
    {
     "name": "stdout",
     "output_type": "stream",
     "text": [
      "Accuracy: 85.52\n",
      "F1-score: 85.54\n"
     ]
    }
   ],
   "source": [
    "# Compute metrics on the test dataset\n",
    "accuracy = accuracy_score(y_test, y_pred)\n",
    "f1 = f1_score(y_test, y_pred, average='weighted')\n",
    "\n",
    "print(f'Accuracy: {100*accuracy:.2f}')\n",
    "print(f'F1-score: {100*f1:.2f}')"
   ]
  }
 ],
 "metadata": {
  "kernelspec": {
   "display_name": "Python 3 (ipykernel)",
   "language": "python",
   "name": "python3"
  },
  "language_info": {
   "codemirror_mode": {
    "name": "ipython",
    "version": 3
   },
   "file_extension": ".py",
   "mimetype": "text/x-python",
   "name": "python",
   "nbconvert_exporter": "python",
   "pygments_lexer": "ipython3",
   "version": "3.8.13"
  }
 },
 "nbformat": 4,
 "nbformat_minor": 5
}
