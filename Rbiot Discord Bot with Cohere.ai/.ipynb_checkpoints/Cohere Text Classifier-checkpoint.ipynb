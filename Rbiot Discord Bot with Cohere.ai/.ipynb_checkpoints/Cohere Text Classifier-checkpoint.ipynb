{
 "cells": [
  {
   "cell_type": "markdown",
   "id": "4792a932",
   "metadata": {},
   "source": [
    "## Pipeline"
   ]
  },
  {
   "cell_type": "raw",
   "id": "d0f14129",
   "metadata": {},
   "source": [
    "1. Gather previous messages from raphraphraph, luckyjalien, and nil\n",
    "2. Clean messages and put them into a dataframe\n",
    "3. Process messages into embeddings \n",
    "3.1. Send messages (before embeddings) to cohere.ai to finetune already made models\n",
    "3.2. Test Results\n",
    "4. Use finetuned moddel to run with a discord bot command.\n",
    "    4.1. Input: A message\n",
    "    4.2. Output: The person most likely to type that message between raphraphraph, luckyjalien, and nil"
   ]
  },
  {
   "cell_type": "markdown",
   "id": "bdd2e40d",
   "metadata": {},
   "source": [
    "## Libraries"
   ]
  },
  {
   "cell_type": "code",
   "execution_count": 1,
   "id": "9fbd1450",
   "metadata": {},
   "outputs": [],
   "source": [
    "import cohere\n",
    "import csv\n",
    "import os\n",
    "import glob\n",
    "import pandas as pd\n",
    "import numpy as np\n",
    "from sklearn.model_selection import train_test_split\n",
    "from sklearn.metrics import accuracy_score, f1_score"
   ]
  },
  {
   "cell_type": "markdown",
   "id": "75efa6eb",
   "metadata": {},
   "source": [
    "[Link to Guide that Helped Me](https://txt.cohere.ai/classify-three-options/)"
   ]
  },
  {
   "cell_type": "markdown",
   "id": "de743fde",
   "metadata": {},
   "source": [
    "## Cohere Embeddings and CSV for training on os.cohere.ai"
   ]
  },
  {
   "cell_type": "code",
   "execution_count": 2,
   "id": "c33fceda",
   "metadata": {
    "scrolled": true
   },
   "outputs": [
    {
     "ename": "CohereError",
     "evalue": "invalid api key",
     "output_type": "error",
     "traceback": [
      "\u001b[1;31m---------------------------------------------------------------------------\u001b[0m",
      "\u001b[1;31mCohereError\u001b[0m                               Traceback (most recent call last)",
      "File \u001b[1;32m~\\anaconda3\\lib\\site-packages\\cohere\\client.py:54\u001b[0m, in \u001b[0;36mClient.__init__\u001b[1;34m(self, api_key, version, num_workers, request_dict, check_api_key)\u001b[0m\n\u001b[0;32m     53\u001b[0m     \u001b[38;5;28;01mif\u001b[39;00m \u001b[38;5;129;01mnot\u001b[39;00m res[\u001b[38;5;124m'\u001b[39m\u001b[38;5;124mvalid\u001b[39m\u001b[38;5;124m'\u001b[39m]:\n\u001b[1;32m---> 54\u001b[0m         \u001b[38;5;28;01mraise\u001b[39;00m CohereError(\u001b[38;5;124m'\u001b[39m\u001b[38;5;124minvalid api key\u001b[39m\u001b[38;5;124m'\u001b[39m)\n\u001b[0;32m     55\u001b[0m \u001b[38;5;28;01mexcept\u001b[39;00m CohereError \u001b[38;5;28;01mas\u001b[39;00m e:\n",
      "\u001b[1;31mCohereError\u001b[0m: invalid api key",
      "\nDuring handling of the above exception, another exception occurred:\n",
      "\u001b[1;31mCohereError\u001b[0m                               Traceback (most recent call last)",
      "Input \u001b[1;32mIn [2]\u001b[0m, in \u001b[0;36m<cell line: 2>\u001b[1;34m()\u001b[0m\n\u001b[0;32m      1\u001b[0m \u001b[38;5;28;01mfrom\u001b[39;00m \u001b[38;5;21;01mtoken_2\u001b[39;00m \u001b[38;5;28;01mimport\u001b[39;00m TOKEN\n\u001b[1;32m----> 2\u001b[0m co \u001b[38;5;241m=\u001b[39m \u001b[43mcohere\u001b[49m\u001b[38;5;241;43m.\u001b[39;49m\u001b[43mClient\u001b[49m\u001b[43m(\u001b[49m\u001b[43mTOKEN\u001b[49m\u001b[43m)\u001b[49m\n",
      "File \u001b[1;32m~\\anaconda3\\lib\\site-packages\\cohere\\client.py:56\u001b[0m, in \u001b[0;36mClient.__init__\u001b[1;34m(self, api_key, version, num_workers, request_dict, check_api_key)\u001b[0m\n\u001b[0;32m     54\u001b[0m         \u001b[38;5;28;01mraise\u001b[39;00m CohereError(\u001b[38;5;124m'\u001b[39m\u001b[38;5;124minvalid api key\u001b[39m\u001b[38;5;124m'\u001b[39m)\n\u001b[0;32m     55\u001b[0m \u001b[38;5;28;01mexcept\u001b[39;00m CohereError \u001b[38;5;28;01mas\u001b[39;00m e:\n\u001b[1;32m---> 56\u001b[0m     \u001b[38;5;28;01mraise\u001b[39;00m CohereError(message\u001b[38;5;241m=\u001b[39me\u001b[38;5;241m.\u001b[39mmessage, http_status\u001b[38;5;241m=\u001b[39me\u001b[38;5;241m.\u001b[39mhttp_status, headers\u001b[38;5;241m=\u001b[39me\u001b[38;5;241m.\u001b[39mheaders)\n",
      "\u001b[1;31mCohereError\u001b[0m: invalid api key"
     ]
    }
   ],
   "source": [
    "from token_2 import TOKEN_COHERE\n",
    "co = cohere.Client(TOKEN_COHERE)"
   ]
  },
  {
   "cell_type": "code",
   "execution_count": null,
   "id": "2e87e9e6",
   "metadata": {},
   "outputs": [],
   "source": [
    "# extension = 'csv'\n",
    "# all_filenames = [i for i in glob.glob('*.{}'.format(extension))]\n",
    "# combined_csv = pd.concat([pd.read_csv(f) for f in all_filenames ])\n",
    "# combined_csv.to_csv( \"messages.csv\", index=False, encoding='utf-8')"
   ]
  },
  {
   "cell_type": "code",
   "execution_count": null,
   "id": "25f65fc0",
   "metadata": {},
   "outputs": [],
   "source": [
    "df = pd.read_csv('messages.csv')"
   ]
  },
  {
   "cell_type": "code",
   "execution_count": null,
   "id": "3bd554bf",
   "metadata": {},
   "outputs": [],
   "source": [
    "name_dict = {\"luckyjalien#7103\":\"Jackie\", \"nil#7933\":\"Jun\", \"raphraphraph#1976\":\"Raph\"}\n",
    "df2 = df.replace({\"author\":name_dict})\n",
    "df2 = df2.dropna()"
   ]
  },
  {
   "cell_type": "code",
   "execution_count": null,
   "id": "37afce67",
   "metadata": {},
   "outputs": [],
   "source": [
    "X, y = df2[\"text\"], df2[\"author\"]\n",
    "\n",
    "X_train, X_test, y_train, y_test = train_test_split(X, y)"
   ]
  },
  {
   "cell_type": "code",
   "execution_count": null,
   "id": "7ec82cb7",
   "metadata": {},
   "outputs": [],
   "source": [
    "df2"
   ]
  },
  {
   "cell_type": "code",
   "execution_count": null,
   "id": "bb36c7ec",
   "metadata": {},
   "outputs": [],
   "source": [
    "def embed_text(text):\n",
    "    output = co.embed(model='small', texts=text)\n",
    "    return output.embeddings"
   ]
  },
  {
   "cell_type": "code",
   "execution_count": 5,
   "id": "4f3ae1ff",
   "metadata": {},
   "outputs": [
    {
     "ename": "NameError",
     "evalue": "name 'embed_text' is not defined",
     "output_type": "error",
     "traceback": [
      "\u001b[1;31m---------------------------------------------------------------------------\u001b[0m",
      "\u001b[1;31mNameError\u001b[0m                                 Traceback (most recent call last)",
      "Input \u001b[1;32mIn [5]\u001b[0m, in \u001b[0;36m<cell line: 1>\u001b[1;34m()\u001b[0m\n\u001b[1;32m----> 1\u001b[0m X_train_emb \u001b[38;5;241m=\u001b[39m np\u001b[38;5;241m.\u001b[39marray(\u001b[43membed_text\u001b[49m(X_train\u001b[38;5;241m.\u001b[39mtolist()))\n\u001b[0;32m      2\u001b[0m X_test_emb \u001b[38;5;241m=\u001b[39m np\u001b[38;5;241m.\u001b[39marray(embed_text(X_test\u001b[38;5;241m.\u001b[39mtolist()))\n",
      "\u001b[1;31mNameError\u001b[0m: name 'embed_text' is not defined"
     ]
    }
   ],
   "source": [
    "\n",
    "\n",
    "X_train_emb = np.array(embed_text(X_train.tolist()))\n",
    "X_test_emb = np.array(embed_text(X_test.tolist()))"
   ]
  },
  {
   "cell_type": "code",
   "execution_count": 6,
   "id": "dabc1947",
   "metadata": {},
   "outputs": [
    {
     "ename": "NameError",
     "evalue": "name 'X_train_emb' is not defined",
     "output_type": "error",
     "traceback": [
      "\u001b[1;31m---------------------------------------------------------------------------\u001b[0m",
      "\u001b[1;31mNameError\u001b[0m                                 Traceback (most recent call last)",
      "Input \u001b[1;32mIn [6]\u001b[0m, in \u001b[0;36m<cell line: 2>\u001b[1;34m()\u001b[0m\n\u001b[0;32m      1\u001b[0m \u001b[38;5;66;03m#saving embeddings\u001b[39;00m\n\u001b[1;32m----> 2\u001b[0m np\u001b[38;5;241m.\u001b[39msavetxt(\u001b[38;5;124m'\u001b[39m\u001b[38;5;124mXtrain.txt\u001b[39m\u001b[38;5;124m'\u001b[39m, \u001b[43mX_train_emb\u001b[49m)\n\u001b[0;32m      3\u001b[0m np\u001b[38;5;241m.\u001b[39msavetxt(\u001b[38;5;124m'\u001b[39m\u001b[38;5;124mXtest.txt\u001b[39m\u001b[38;5;124m'\u001b[39m, X_test_emb)\n",
      "\u001b[1;31mNameError\u001b[0m: name 'X_train_emb' is not defined"
     ]
    }
   ],
   "source": [
    "#saving embeddings\n",
    "np.savetxt('Xtrain.txt', X_train_emb)\n",
    "np.savetxt('Xtest.txt', X_test_emb)"
   ]
  },
  {
   "cell_type": "code",
   "execution_count": 7,
   "id": "21fc18e4",
   "metadata": {},
   "outputs": [
    {
     "ename": "NameError",
     "evalue": "name 'y_train' is not defined",
     "output_type": "error",
     "traceback": [
      "\u001b[1;31m---------------------------------------------------------------------------\u001b[0m",
      "\u001b[1;31mNameError\u001b[0m                                 Traceback (most recent call last)",
      "Input \u001b[1;32mIn [7]\u001b[0m, in \u001b[0;36m<cell line: 8>\u001b[1;34m()\u001b[0m\n\u001b[0;32m      6\u001b[0m \u001b[38;5;66;03m# Prepare the labels\u001b[39;00m\n\u001b[0;32m      7\u001b[0m le \u001b[38;5;241m=\u001b[39m preprocessing\u001b[38;5;241m.\u001b[39mLabelEncoder()\n\u001b[1;32m----> 8\u001b[0m le\u001b[38;5;241m.\u001b[39mfit(\u001b[43my_train\u001b[49m)\n\u001b[0;32m      9\u001b[0m y_train_le \u001b[38;5;241m=\u001b[39m le\u001b[38;5;241m.\u001b[39mtransform(y_train)\n\u001b[0;32m     10\u001b[0m y_test_le \u001b[38;5;241m=\u001b[39m le\u001b[38;5;241m.\u001b[39mtransform(y_test)\n",
      "\u001b[1;31mNameError\u001b[0m: name 'y_train' is not defined"
     ]
    }
   ],
   "source": [
    "# Import modules\n",
    "from sklearn.svm import SVC\n",
    "from sklearn import preprocessing\n",
    "from sklearn.metrics import accuracy_score, f1_score\n",
    "\n",
    "# Prepare the labels\n",
    "le = preprocessing.LabelEncoder()\n",
    "le.fit(y_train)\n",
    "y_train_le = le.transform(y_train)\n",
    "y_test_le = le.transform(y_test)\n",
    "\n",
    "# Initialize the model\n",
    "svm_classifier = SVC(class_weight='balanced')\n",
    "\n",
    "# Fit the training dataset to the model\n",
    "svm_classifier.fit(X_train_emb, y_train_le)\n",
    "\n",
    "# Generate classification predictions on the test dataset\n",
    "y_pred_le = svm_classifier.predict(X_test_emb)\n",
    "\n",
    "# Compute metrics on the test dataset\n",
    "accuracy = accuracy_score(y_test_le, y_pred_le)\n",
    "f1 = f1_score(y_test_le, y_pred_le, average='weighted')\n",
    "\n",
    "print(f'Accuracy: {100*accuracy:.2f}')\n",
    "print(f'F1-score: {100*f1:.2f}')"
   ]
  },
  {
   "cell_type": "code",
   "execution_count": 8,
   "id": "c1d591d3",
   "metadata": {
    "scrolled": true
   },
   "outputs": [
    {
     "ename": "NameError",
     "evalue": "name 'df2' is not defined",
     "output_type": "error",
     "traceback": [
      "\u001b[1;31m---------------------------------------------------------------------------\u001b[0m",
      "\u001b[1;31mNameError\u001b[0m                                 Traceback (most recent call last)",
      "Input \u001b[1;32mIn [8]\u001b[0m, in \u001b[0;36m<cell line: 1>\u001b[1;34m()\u001b[0m\n\u001b[1;32m----> 1\u001b[0m df3 \u001b[38;5;241m=\u001b[39m \u001b[43mdf2\u001b[49m\n\u001b[0;32m      2\u001b[0m df3 \u001b[38;5;241m=\u001b[39m df3\u001b[38;5;241m.\u001b[39mrename({\u001b[38;5;124m\"\u001b[39m\u001b[38;5;124mtext\u001b[39m\u001b[38;5;124m\"\u001b[39m:\u001b[38;5;124m\"\u001b[39m\u001b[38;5;124mExamples\u001b[39m\u001b[38;5;124m\"\u001b[39m, \u001b[38;5;124m\"\u001b[39m\u001b[38;5;124mauthor\u001b[39m\u001b[38;5;124m\"\u001b[39m:\u001b[38;5;124m\"\u001b[39m\u001b[38;5;124mLabels\u001b[39m\u001b[38;5;124m\"\u001b[39m}, axis \u001b[38;5;241m=\u001b[39m \u001b[38;5;124m\"\u001b[39m\u001b[38;5;124mcolumns\u001b[39m\u001b[38;5;124m\"\u001b[39m)\n\u001b[0;32m      3\u001b[0m df3\n",
      "\u001b[1;31mNameError\u001b[0m: name 'df2' is not defined"
     ]
    }
   ],
   "source": [
    "df3 = df2\n",
    "df3 = df3.rename({\"text\":\"Examples\", \"author\":\"Labels\"}, axis = \"columns\")\n",
    "df3"
   ]
  },
  {
   "cell_type": "code",
   "execution_count": 9,
   "id": "75892902",
   "metadata": {},
   "outputs": [],
   "source": [
    "#df2.to_csv(\"cohere.csv\", index_label = False,  index=False)"
   ]
  },
  {
   "cell_type": "code",
   "execution_count": 15,
   "id": "604e2c7f",
   "metadata": {},
   "outputs": [],
   "source": [
    "#send to training on Cohere\n",
    "df3.to_csv(\"cohere1.csv\", index_label = False,  index=False, header = False)"
   ]
  },
  {
   "cell_type": "markdown",
   "id": "c2909bbe",
   "metadata": {},
   "source": [
    "## Classify the Text on Testing data"
   ]
  },
  {
   "cell_type": "code",
   "execution_count": 16,
   "id": "73aaa943",
   "metadata": {},
   "outputs": [],
   "source": [
    "#sent it to training on cohere\n",
    "def classify_text_finetune(text):\n",
    "    classifications = co.classify(\n",
    "    model='ff3b9944-21b6-41de-bf58-dd5e4bd02993-ft',\n",
    "    inputs=text\n",
    "    )\n",
    "    return classifications.classifications"
   ]
  },
  {
   "cell_type": "code",
   "execution_count": 17,
   "id": "7f4d98dd",
   "metadata": {},
   "outputs": [],
   "source": [
    "# Generate classification predictions on the test dataset\n",
    "y_pred_raw = classify_text_finetune(X_test.tolist())\n",
    "y_pred = [y.prediction for y in y_pred_raw]"
   ]
  },
  {
   "cell_type": "code",
   "execution_count": 18,
   "id": "a3ba4c47",
   "metadata": {},
   "outputs": [
    {
     "name": "stdout",
     "output_type": "stream",
     "text": [
      "Accuracy: 85.98\n",
      "F1-score: 85.95\n"
     ]
    }
   ],
   "source": [
    "# Compute metrics on the test dataset\n",
    "accuracy = accuracy_score(y_test, y_pred)\n",
    "f1 = f1_score(y_test, y_pred, average='weighted')\n",
    "\n",
    "print(f'Accuracy: {100*accuracy:.2f}')\n",
    "print(f'F1-score: {100*f1:.2f}')"
   ]
  }
 ],
 "metadata": {
  "kernelspec": {
   "display_name": "Python 3 (ipykernel)",
   "language": "python",
   "name": "python3"
  },
  "language_info": {
   "codemirror_mode": {
    "name": "ipython",
    "version": 3
   },
   "file_extension": ".py",
   "mimetype": "text/x-python",
   "name": "python",
   "nbconvert_exporter": "python",
   "pygments_lexer": "ipython3",
   "version": "3.8.13"
  }
 },
 "nbformat": 4,
 "nbformat_minor": 5
}
